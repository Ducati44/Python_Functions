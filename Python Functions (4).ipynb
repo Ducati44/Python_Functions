{
  "nbformat": 4,
  "nbformat_minor": 0,
  "metadata": {
    "colab": {
      "provenance": []
    },
    "kernelspec": {
      "name": "python3",
      "display_name": "Python 3"
    },
    "language_info": {
      "name": "python"
    }
  },
  "cells": [
    {
      "cell_type": "code",
      "execution_count": 1,
      "metadata": {
        "id": "Rbo9EYenEsDS"
      },
      "outputs": [],
      "source": [
        "import numpy as np\n"
      ]
    },
    {
      "cell_type": "code",
      "source": [
        "def method1(length):\n",
        "    return np.random.randint(10, 51, size=length)"
      ],
      "metadata": {
        "id": "35hEevC2E8PA"
      },
      "execution_count": 2,
      "outputs": []
    },
    {
      "cell_type": "code",
      "source": [
        "def method2(lst):\n",
        "    return np.sum(lst)"
      ],
      "metadata": {
        "id": "nZsuBDsVFxI9"
      },
      "execution_count": 3,
      "outputs": []
    },
    {
      "cell_type": "code",
      "source": [
        "def get_user_input():\n",
        "    while True:\n",
        "        try:\n",
        "            user_input = int(input(\"Enter an integer number between 5 and 15: \"))\n",
        "            if 5 <= user_input <= 15:\n",
        "                return user_input\n",
        "            else:\n",
        "                print(\"Please enter a number between 5 and 15.\")\n",
        "        except ValueError:\n",
        "            print(\"Invalid input. Please enter an integer.\")"
      ],
      "metadata": {
        "id": "BlSOG5DLF735"
      },
      "execution_count": 4,
      "outputs": []
    },
    {
      "cell_type": "code",
      "source": [
        "def main():\n",
        "    user_entry = get_user_input()\n",
        "    random_list = method1(user_entry)\n",
        "    print(\"The elements of the array are:\", *random_list)\n",
        "    sum_result = method2(random_list)\n",
        "    print(\"The sum is:\", sum_result)\n"
      ],
      "metadata": {
        "id": "qglfAD8YGYY-"
      },
      "execution_count": 5,
      "outputs": []
    },
    {
      "cell_type": "code",
      "source": [
        "if __name__ == \"__main__\":\n",
        "    main()"
      ],
      "metadata": {
        "colab": {
          "base_uri": "https://localhost:8080/"
        },
        "id": "4k9T6sC8G1To",
        "outputId": "b617aa4a-f282-4eb8-b50f-99cf0176a2a5"
      },
      "execution_count": 6,
      "outputs": [
        {
          "output_type": "stream",
          "name": "stdout",
          "text": [
            "Enter an integer number between 5 and 15: 5\n",
            "The elements of the array are: 30 49 22 17 38\n",
            "The sum is: 156\n"
          ]
        }
      ]
    }
  ]
}